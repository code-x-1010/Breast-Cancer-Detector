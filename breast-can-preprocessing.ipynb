{
 "metadata": {
  "kernelspec": {
   "language": "python",
   "display_name": "Python 3",
   "name": "python3"
  },
  "language_info": {
   "name": "python",
   "version": "3.7.12",
   "mimetype": "text/x-python",
   "codemirror_mode": {
    "name": "ipython",
    "version": 3
   },
   "pygments_lexer": "ipython3",
   "nbconvert_exporter": "python",
   "file_extension": ".py"
  }
 },
 "nbformat_minor": 4,
 "nbformat": 4,
 "cells": [
  {
   "cell_type": "code",
   "source": [
    "\n",
    "import pandas as pd\n",
    "import numpy as np\n",
    "import PIL\n",
    "import matplotlib.pyplot as plt \n",
    "import plotly.express as px\n",
    "import seaborn as sns\n",
    "import glob\n",
    "import random\n",
    "import os\n",
    "from os import listdir\n",
    "random.seed(100)\n",
    "np.random.seed(100)"
   ],
   "metadata": {
    "execution": {
     "iopub.status.busy": "2023-02-22T15:53:07.379744Z",
     "iopub.execute_input": "2023-02-22T15:53:07.380554Z",
     "iopub.status.idle": "2023-02-22T15:53:09.811442Z",
     "shell.execute_reply.started": "2023-02-22T15:53:07.380456Z",
     "shell.execute_reply": "2023-02-22T15:53:09.809511Z"
    },
    "trusted": true
   },
   "execution_count": 1,
   "outputs": []
  },
  {
   "cell_type": "code",
   "source": [
    "dicom_data = pd.read_csv('Dataset/csv/dicom_info.csv')"
   ],
   "metadata": {
    "execution": {
     "iopub.status.busy": "2023-02-22T15:53:09.814576Z",
     "iopub.execute_input": "2023-02-22T15:53:09.816039Z",
     "iopub.status.idle": "2023-02-22T15:53:10.216443Z",
     "shell.execute_reply.started": "2023-02-22T15:53:09.815974Z",
     "shell.execute_reply": "2023-02-22T15:53:10.215092Z"
    },
    "trusted": true
   },
   "execution_count": 2,
   "outputs": []
  },
  {
   "cell_type": "code",
   "source": [
    "dicom_data.head()"
   ],
   "metadata": {
    "execution": {
     "iopub.status.busy": "2023-02-22T15:53:10.218001Z",
     "iopub.execute_input": "2023-02-22T15:53:10.218684Z",
     "iopub.status.idle": "2023-02-22T15:53:10.270784Z",
     "shell.execute_reply.started": "2023-02-22T15:53:10.218646Z",
     "shell.execute_reply": "2023-02-22T15:53:10.268880Z"
    },
    "trusted": true
   },
   "execution_count": 3,
   "outputs": [
    {
     "data": {
      "text/plain": "                                           file_path  \\\n0  CBIS-DDSM/dicom/1.3.6.1.4.1.9590.100.1.2.12930...   \n1  CBIS-DDSM/dicom/1.3.6.1.4.1.9590.100.1.2.24838...   \n2  CBIS-DDSM/dicom/1.3.6.1.4.1.9590.100.1.2.26721...   \n3  CBIS-DDSM/dicom/1.3.6.1.4.1.9590.100.1.2.38118...   \n4  CBIS-DDSM/dicom/1.3.6.1.4.1.9590.100.1.2.38118...   \n\n                                          image_path  AccessionNumber  \\\n0  CBIS-DDSM/jpeg/1.3.6.1.4.1.9590.100.1.2.129308...              NaN   \n1  CBIS-DDSM/jpeg/1.3.6.1.4.1.9590.100.1.2.248386...              NaN   \n2  CBIS-DDSM/jpeg/1.3.6.1.4.1.9590.100.1.2.267213...              NaN   \n3  CBIS-DDSM/jpeg/1.3.6.1.4.1.9590.100.1.2.381187...              NaN   \n4  CBIS-DDSM/jpeg/1.3.6.1.4.1.9590.100.1.2.381187...              NaN   \n\n   BitsAllocated  BitsStored BodyPartExamined  Columns  ContentDate  \\\n0             16          16           BREAST      351     20160426   \n1             16          16           BREAST     3526     20160426   \n2             16          16           BREAST     1546     20160503   \n3             16          16           BREAST       97     20160503   \n4              8           8      Left Breast     3104     20160503   \n\n   ContentTime ConversionType  ...  \\\n0   131732.685            WSD  ...   \n1   143829.101            WSD  ...   \n2   111956.298            WSD  ...   \n3   115347.770            WSD  ...   \n4   115347.770            WSD  ...   \n\n   SecondaryCaptureDeviceManufacturerModelName      SeriesDescription  \\\n0                                       MATLAB         cropped images   \n1                                       MATLAB  full mammogram images   \n2                                       MATLAB  full mammogram images   \n3                                       MATLAB         cropped images   \n4                                       MATLAB                    NaN   \n\n                                   SeriesInstanceUID SeriesNumber  \\\n0  1.3.6.1.4.1.9590.100.1.2.129308726812851964007...            1   \n1  1.3.6.1.4.1.9590.100.1.2.248386742010678582309...            1   \n2  1.3.6.1.4.1.9590.100.1.2.267213171011171858918...            1   \n3  1.3.6.1.4.1.9590.100.1.2.381187369611524586537...            1   \n4  1.3.6.1.4.1.9590.100.1.2.381187369611524586537...            1   \n\n  SmallestImagePixelValue  SpecificCharacterSet   StudyDate StudyID  \\\n0                   23078            ISO_IR 100  20160720.0    DDSM   \n1                       0            ISO_IR 100  20160720.0    DDSM   \n2                       0            ISO_IR 100  20160807.0    DDSM   \n3                   32298            ISO_IR 100  20170829.0    DDSM   \n4                       0            ISO_IR 100         NaN    DDSM   \n\n                                    StudyInstanceUID  StudyTime  \n0  1.3.6.1.4.1.9590.100.1.2.271867287611061855725...   214951.0  \n1  1.3.6.1.4.1.9590.100.1.2.161516517311681906612...   193426.0  \n2  1.3.6.1.4.1.9590.100.1.2.291043622711253836701...   161814.0  \n3  1.3.6.1.4.1.9590.100.1.2.335006093711888937440...   180109.0  \n4  1.3.6.1.4.1.9590.100.1.2.335006093711888937440...        NaN  \n\n[5 rows x 38 columns]",
      "text/html": "<div>\n<style scoped>\n    .dataframe tbody tr th:only-of-type {\n        vertical-align: middle;\n    }\n\n    .dataframe tbody tr th {\n        vertical-align: top;\n    }\n\n    .dataframe thead th {\n        text-align: right;\n    }\n</style>\n<table border=\"1\" class=\"dataframe\">\n  <thead>\n    <tr style=\"text-align: right;\">\n      <th></th>\n      <th>file_path</th>\n      <th>image_path</th>\n      <th>AccessionNumber</th>\n      <th>BitsAllocated</th>\n      <th>BitsStored</th>\n      <th>BodyPartExamined</th>\n      <th>Columns</th>\n      <th>ContentDate</th>\n      <th>ContentTime</th>\n      <th>ConversionType</th>\n      <th>...</th>\n      <th>SecondaryCaptureDeviceManufacturerModelName</th>\n      <th>SeriesDescription</th>\n      <th>SeriesInstanceUID</th>\n      <th>SeriesNumber</th>\n      <th>SmallestImagePixelValue</th>\n      <th>SpecificCharacterSet</th>\n      <th>StudyDate</th>\n      <th>StudyID</th>\n      <th>StudyInstanceUID</th>\n      <th>StudyTime</th>\n    </tr>\n  </thead>\n  <tbody>\n    <tr>\n      <th>0</th>\n      <td>CBIS-DDSM/dicom/1.3.6.1.4.1.9590.100.1.2.12930...</td>\n      <td>CBIS-DDSM/jpeg/1.3.6.1.4.1.9590.100.1.2.129308...</td>\n      <td>NaN</td>\n      <td>16</td>\n      <td>16</td>\n      <td>BREAST</td>\n      <td>351</td>\n      <td>20160426</td>\n      <td>131732.685</td>\n      <td>WSD</td>\n      <td>...</td>\n      <td>MATLAB</td>\n      <td>cropped images</td>\n      <td>1.3.6.1.4.1.9590.100.1.2.129308726812851964007...</td>\n      <td>1</td>\n      <td>23078</td>\n      <td>ISO_IR 100</td>\n      <td>20160720.0</td>\n      <td>DDSM</td>\n      <td>1.3.6.1.4.1.9590.100.1.2.271867287611061855725...</td>\n      <td>214951.0</td>\n    </tr>\n    <tr>\n      <th>1</th>\n      <td>CBIS-DDSM/dicom/1.3.6.1.4.1.9590.100.1.2.24838...</td>\n      <td>CBIS-DDSM/jpeg/1.3.6.1.4.1.9590.100.1.2.248386...</td>\n      <td>NaN</td>\n      <td>16</td>\n      <td>16</td>\n      <td>BREAST</td>\n      <td>3526</td>\n      <td>20160426</td>\n      <td>143829.101</td>\n      <td>WSD</td>\n      <td>...</td>\n      <td>MATLAB</td>\n      <td>full mammogram images</td>\n      <td>1.3.6.1.4.1.9590.100.1.2.248386742010678582309...</td>\n      <td>1</td>\n      <td>0</td>\n      <td>ISO_IR 100</td>\n      <td>20160720.0</td>\n      <td>DDSM</td>\n      <td>1.3.6.1.4.1.9590.100.1.2.161516517311681906612...</td>\n      <td>193426.0</td>\n    </tr>\n    <tr>\n      <th>2</th>\n      <td>CBIS-DDSM/dicom/1.3.6.1.4.1.9590.100.1.2.26721...</td>\n      <td>CBIS-DDSM/jpeg/1.3.6.1.4.1.9590.100.1.2.267213...</td>\n      <td>NaN</td>\n      <td>16</td>\n      <td>16</td>\n      <td>BREAST</td>\n      <td>1546</td>\n      <td>20160503</td>\n      <td>111956.298</td>\n      <td>WSD</td>\n      <td>...</td>\n      <td>MATLAB</td>\n      <td>full mammogram images</td>\n      <td>1.3.6.1.4.1.9590.100.1.2.267213171011171858918...</td>\n      <td>1</td>\n      <td>0</td>\n      <td>ISO_IR 100</td>\n      <td>20160807.0</td>\n      <td>DDSM</td>\n      <td>1.3.6.1.4.1.9590.100.1.2.291043622711253836701...</td>\n      <td>161814.0</td>\n    </tr>\n    <tr>\n      <th>3</th>\n      <td>CBIS-DDSM/dicom/1.3.6.1.4.1.9590.100.1.2.38118...</td>\n      <td>CBIS-DDSM/jpeg/1.3.6.1.4.1.9590.100.1.2.381187...</td>\n      <td>NaN</td>\n      <td>16</td>\n      <td>16</td>\n      <td>BREAST</td>\n      <td>97</td>\n      <td>20160503</td>\n      <td>115347.770</td>\n      <td>WSD</td>\n      <td>...</td>\n      <td>MATLAB</td>\n      <td>cropped images</td>\n      <td>1.3.6.1.4.1.9590.100.1.2.381187369611524586537...</td>\n      <td>1</td>\n      <td>32298</td>\n      <td>ISO_IR 100</td>\n      <td>20170829.0</td>\n      <td>DDSM</td>\n      <td>1.3.6.1.4.1.9590.100.1.2.335006093711888937440...</td>\n      <td>180109.0</td>\n    </tr>\n    <tr>\n      <th>4</th>\n      <td>CBIS-DDSM/dicom/1.3.6.1.4.1.9590.100.1.2.38118...</td>\n      <td>CBIS-DDSM/jpeg/1.3.6.1.4.1.9590.100.1.2.381187...</td>\n      <td>NaN</td>\n      <td>8</td>\n      <td>8</td>\n      <td>Left Breast</td>\n      <td>3104</td>\n      <td>20160503</td>\n      <td>115347.770</td>\n      <td>WSD</td>\n      <td>...</td>\n      <td>MATLAB</td>\n      <td>NaN</td>\n      <td>1.3.6.1.4.1.9590.100.1.2.381187369611524586537...</td>\n      <td>1</td>\n      <td>0</td>\n      <td>ISO_IR 100</td>\n      <td>NaN</td>\n      <td>DDSM</td>\n      <td>1.3.6.1.4.1.9590.100.1.2.335006093711888937440...</td>\n      <td>NaN</td>\n    </tr>\n  </tbody>\n</table>\n<p>5 rows × 38 columns</p>\n</div>"
     },
     "execution_count": 3,
     "metadata": {},
     "output_type": "execute_result"
    }
   ]
  },
  {
   "cell_type": "code",
   "source": [
    "dicom_data.info()"
   ],
   "metadata": {
    "execution": {
     "iopub.status.busy": "2023-02-22T15:53:10.272929Z",
     "iopub.execute_input": "2023-02-22T15:53:10.273261Z",
     "iopub.status.idle": "2023-02-22T15:53:10.316711Z",
     "shell.execute_reply.started": "2023-02-22T15:53:10.273233Z",
     "shell.execute_reply": "2023-02-22T15:53:10.315367Z"
    },
    "trusted": true
   },
   "execution_count": 4,
   "outputs": [
    {
     "name": "stdout",
     "output_type": "stream",
     "text": [
      "<class 'pandas.core.frame.DataFrame'>\n",
      "RangeIndex: 10237 entries, 0 to 10236\n",
      "Data columns (total 38 columns):\n",
      " #   Column                                       Non-Null Count  Dtype  \n",
      "---  ------                                       --------------  -----  \n",
      " 0   file_path                                    10237 non-null  object \n",
      " 1   image_path                                   10237 non-null  object \n",
      " 2   AccessionNumber                              0 non-null      float64\n",
      " 3   BitsAllocated                                10237 non-null  int64  \n",
      " 4   BitsStored                                   10237 non-null  int64  \n",
      " 5   BodyPartExamined                             10237 non-null  object \n",
      " 6   Columns                                      10237 non-null  int64  \n",
      " 7   ContentDate                                  10237 non-null  int64  \n",
      " 8   ContentTime                                  10237 non-null  float64\n",
      " 9   ConversionType                               10237 non-null  object \n",
      " 10  HighBit                                      10237 non-null  int64  \n",
      " 11  InstanceNumber                               10237 non-null  int64  \n",
      " 12  LargestImagePixelValue                       10237 non-null  int64  \n",
      " 13  Laterality                                   9671 non-null   object \n",
      " 14  Modality                                     10237 non-null  object \n",
      " 15  PatientBirthDate                             0 non-null      float64\n",
      " 16  PatientID                                    10237 non-null  object \n",
      " 17  PatientName                                  10237 non-null  object \n",
      " 18  PatientOrientation                           10237 non-null  object \n",
      " 19  PatientSex                                   0 non-null      float64\n",
      " 20  PhotometricInterpretation                    10237 non-null  object \n",
      " 21  PixelRepresentation                          10237 non-null  int64  \n",
      " 22  ReferringPhysicianName                       0 non-null      float64\n",
      " 23  Rows                                         10237 non-null  int64  \n",
      " 24  SOPClassUID                                  10237 non-null  object \n",
      " 25  SOPInstanceUID                               10237 non-null  object \n",
      " 26  SamplesPerPixel                              10237 non-null  int64  \n",
      " 27  SecondaryCaptureDeviceManufacturer           10237 non-null  object \n",
      " 28  SecondaryCaptureDeviceManufacturerModelName  10237 non-null  object \n",
      " 29  SeriesDescription                            9671 non-null   object \n",
      " 30  SeriesInstanceUID                            10237 non-null  object \n",
      " 31  SeriesNumber                                 10237 non-null  int64  \n",
      " 32  SmallestImagePixelValue                      10237 non-null  int64  \n",
      " 33  SpecificCharacterSet                         10237 non-null  object \n",
      " 34  StudyDate                                    9671 non-null   float64\n",
      " 35  StudyID                                      10237 non-null  object \n",
      " 36  StudyInstanceUID                             10237 non-null  object \n",
      " 37  StudyTime                                    9671 non-null   float64\n",
      "dtypes: float64(7), int64(12), object(19)\n",
      "memory usage: 3.0+ MB\n"
     ]
    }
   ]
  },
  {
   "cell_type": "code",
   "source": [
    "cropped_images=dicom_data[dicom_data.SeriesDescription == 'cropped images'].image_path\n",
    "cropped_images.head()"
   ],
   "metadata": {
    "execution": {
     "iopub.status.busy": "2023-02-22T15:53:10.318252Z",
     "iopub.execute_input": "2023-02-22T15:53:10.318729Z",
     "iopub.status.idle": "2023-02-22T15:53:10.332477Z",
     "shell.execute_reply.started": "2023-02-22T15:53:10.318686Z",
     "shell.execute_reply": "2023-02-22T15:53:10.331293Z"
    },
    "trusted": true
   },
   "execution_count": 5,
   "outputs": [
    {
     "data": {
      "text/plain": "0     CBIS-DDSM/jpeg/1.3.6.1.4.1.9590.100.1.2.129308...\n3     CBIS-DDSM/jpeg/1.3.6.1.4.1.9590.100.1.2.381187...\n6     CBIS-DDSM/jpeg/1.3.6.1.4.1.9590.100.1.2.153339...\n7     CBIS-DDSM/jpeg/1.3.6.1.4.1.9590.100.1.2.178994...\n10    CBIS-DDSM/jpeg/1.3.6.1.4.1.9590.100.1.2.411833...\nName: image_path, dtype: object"
     },
     "execution_count": 5,
     "metadata": {},
     "output_type": "execute_result"
    }
   ]
  },
  {
   "cell_type": "code",
   "source": [
    "image_dir = 'Dataset/jpeg'"
   ],
   "metadata": {
    "execution": {
     "iopub.status.busy": "2023-02-22T16:05:56.068040Z",
     "iopub.execute_input": "2023-02-22T16:05:56.068480Z",
     "iopub.status.idle": "2023-02-22T16:05:56.073431Z",
     "shell.execute_reply.started": "2023-02-22T16:05:56.068449Z",
     "shell.execute_reply": "2023-02-22T16:05:56.072539Z"
    },
    "trusted": true
   },
   "execution_count": 6,
   "outputs": []
  },
  {
   "cell_type": "code",
   "source": [
    "cropped_images = cropped_images.apply(lambda x: x.replace('CBIS-DDSM/jpeg', image_dir))\n",
    "cropped_images.head()"
   ],
   "metadata": {
    "execution": {
     "iopub.status.busy": "2023-02-22T16:05:57.531108Z",
     "iopub.execute_input": "2023-02-22T16:05:57.531554Z",
     "iopub.status.idle": "2023-02-22T16:05:57.543936Z",
     "shell.execute_reply.started": "2023-02-22T16:05:57.531514Z",
     "shell.execute_reply": "2023-02-22T16:05:57.542671Z"
    },
    "trusted": true
   },
   "execution_count": 7,
   "outputs": [
    {
     "data": {
      "text/plain": "0     Dataset/jpeg/1.3.6.1.4.1.9590.100.1.2.12930872...\n3     Dataset/jpeg/1.3.6.1.4.1.9590.100.1.2.38118736...\n6     Dataset/jpeg/1.3.6.1.4.1.9590.100.1.2.15333905...\n7     Dataset/jpeg/1.3.6.1.4.1.9590.100.1.2.17899471...\n10    Dataset/jpeg/1.3.6.1.4.1.9590.100.1.2.41183349...\nName: image_path, dtype: object"
     },
     "execution_count": 7,
     "metadata": {},
     "output_type": "execute_result"
    }
   ]
  },
  {
   "cell_type": "code",
   "source": [
    "for file  in cropped_images[0:5]:\n",
    "    cropped_images_show = PIL.Image.open(file)\n",
    "    gray_img= cropped_images_show.convert(\"L\")\n",
    "    plt.imshow(gray_img, cmap='gray')"
   ],
   "metadata": {
    "execution": {
     "iopub.status.busy": "2023-02-22T16:06:00.028699Z",
     "iopub.execute_input": "2023-02-22T16:06:00.029197Z",
     "iopub.status.idle": "2023-02-22T16:06:00.763707Z",
     "shell.execute_reply.started": "2023-02-22T16:06:00.029158Z",
     "shell.execute_reply": "2023-02-22T16:06:00.762559Z"
    },
    "trusted": true
   },
   "execution_count": 8,
   "outputs": [
    {
     "data": {
      "text/plain": "<Figure size 640x480 with 1 Axes>",
      "image/png": "[encoded data removed]"
     },
     "metadata": {},
     "output_type": "display_data"
    }
   ]
  },
  {
   "cell_type": "code",
   "source": [
    "full_mammogram_images=dicom_data[dicom_data.SeriesDescription == 'full mammogram images'].image_path\n",
    "full_mammogram_images.head()"
   ],
   "metadata": {
    "execution": {
     "iopub.status.busy": "2023-02-22T16:06:02.978231Z",
     "iopub.execute_input": "2023-02-22T16:06:02.979000Z",
     "iopub.status.idle": "2023-02-22T16:06:02.989250Z",
     "shell.execute_reply.started": "2023-02-22T16:06:02.978961Z",
     "shell.execute_reply": "2023-02-22T16:06:02.988419Z"
    },
    "trusted": true
   },
   "execution_count": 9,
   "outputs": [
    {
     "data": {
      "text/plain": "1     CBIS-DDSM/jpeg/1.3.6.1.4.1.9590.100.1.2.248386...\n2     CBIS-DDSM/jpeg/1.3.6.1.4.1.9590.100.1.2.267213...\n11    CBIS-DDSM/jpeg/1.3.6.1.4.1.9590.100.1.2.210396...\n12    CBIS-DDSM/jpeg/1.3.6.1.4.1.9590.100.1.2.749566...\n15    CBIS-DDSM/jpeg/1.3.6.1.4.1.9590.100.1.2.987658...\nName: image_path, dtype: object"
     },
     "execution_count": 9,
     "metadata": {},
     "output_type": "execute_result"
    }
   ]
  },
  {
   "cell_type": "code",
   "source": [
    "full_mammogram_images = full_mammogram_images.apply(lambda x: x.replace('CBIS-DDSM/jpeg', image_dir))\n",
    "full_mammogram_images[1]"
   ],
   "metadata": {
    "execution": {
     "iopub.status.busy": "2023-02-22T16:12:30.475010Z",
     "iopub.execute_input": "2023-02-22T16:12:30.475443Z",
     "iopub.status.idle": "2023-02-22T16:12:30.485513Z",
     "shell.execute_reply.started": "2023-02-22T16:12:30.475408Z",
     "shell.execute_reply": "2023-02-22T16:12:30.484502Z"
    },
    "trusted": true
   },
   "execution_count": 10,
   "outputs": [
    {
     "data": {
      "text/plain": "'Dataset/jpeg/1.3.6.1.4.1.9590.100.1.2.248386742010678582309005372213277814849/1-249.jpg'"
     },
     "execution_count": 10,
     "metadata": {},
     "output_type": "execute_result"
    }
   ]
  },
  {
   "cell_type": "code",
   "source": [
    "for file  in full_mammogram_images[0:5]:    \n",
    "    full_mammogram_images_show = PIL.Image.open(file)\n",
    "    gray_img= full_mammogram_images_show.convert(\"L\")\n",
    "    plt.imshow(gray_img, cmap='gray')"
   ],
   "metadata": {
    "execution": {
     "iopub.status.busy": "2023-02-22T16:06:07.717222Z",
     "iopub.execute_input": "2023-02-22T16:06:07.717697Z",
     "iopub.status.idle": "2023-02-22T16:06:13.975509Z",
     "shell.execute_reply.started": "2023-02-22T16:06:07.717661Z",
     "shell.execute_reply": "2023-02-22T16:06:13.974382Z"
    },
    "trusted": true
   },
   "execution_count": 11,
   "outputs": [
    {
     "data": {
      "text/plain": "<Figure size 640x480 with 1 Axes>",
      "image/png": "[encoded data removed]"
     },
     "metadata": {},
     "output_type": "display_data"
    }
   ]
  },
  {
   "cell_type": "code",
   "source": [
    "ROI_mask_images=dicom_data[dicom_data.SeriesDescription == 'ROI mask images'].image_path\n",
    "ROI_mask_images.head()"
   ],
   "metadata": {
    "execution": {
     "iopub.status.busy": "2023-02-22T16:06:18.861024Z",
     "iopub.execute_input": "2023-02-22T16:06:18.861472Z",
     "iopub.status.idle": "2023-02-22T16:06:18.873560Z",
     "shell.execute_reply.started": "2023-02-22T16:06:18.861439Z",
     "shell.execute_reply": "2023-02-22T16:06:18.872708Z"
    },
    "trusted": true
   },
   "execution_count": 12,
   "outputs": [
    {
     "data": {
      "text/plain": "5     CBIS-DDSM/jpeg/1.3.6.1.4.1.9590.100.1.2.153339...\n8     CBIS-DDSM/jpeg/1.3.6.1.4.1.9590.100.1.2.178994...\n9     CBIS-DDSM/jpeg/1.3.6.1.4.1.9590.100.1.2.411833...\n14    CBIS-DDSM/jpeg/1.3.6.1.4.1.9590.100.1.2.236373...\n20    CBIS-DDSM/jpeg/1.3.6.1.4.1.9590.100.1.2.357008...\nName: image_path, dtype: object"
     },
     "execution_count": 12,
     "metadata": {},
     "output_type": "execute_result"
    }
   ]
  },
  {
   "cell_type": "code",
   "source": [
    "ROI_mask_images = ROI_mask_images.apply(lambda x: x.replace('CBIS-DDSM/jpeg', image_dir))\n",
    "ROI_mask_images.head()"
   ],
   "metadata": {
    "execution": {
     "iopub.status.busy": "2023-02-22T16:06:21.898566Z",
     "iopub.execute_input": "2023-02-22T16:06:21.898977Z",
     "iopub.status.idle": "2023-02-22T16:06:21.911023Z",
     "shell.execute_reply.started": "2023-02-22T16:06:21.898946Z",
     "shell.execute_reply": "2023-02-22T16:06:21.909686Z"
    },
    "trusted": true
   },
   "execution_count": 13,
   "outputs": [
    {
     "data": {
      "text/plain": "5     Dataset/jpeg/1.3.6.1.4.1.9590.100.1.2.15333905...\n8     Dataset/jpeg/1.3.6.1.4.1.9590.100.1.2.17899471...\n9     Dataset/jpeg/1.3.6.1.4.1.9590.100.1.2.41183349...\n14    Dataset/jpeg/1.3.6.1.4.1.9590.100.1.2.23637354...\n20    Dataset/jpeg/1.3.6.1.4.1.9590.100.1.2.35700805...\nName: image_path, dtype: object"
     },
     "execution_count": 13,
     "metadata": {},
     "output_type": "execute_result"
    }
   ]
  },
  {
   "cell_type": "code",
   "source": [
    "for file  in ROI_mask_images[0:5]:\n",
    "    ROI_mask_images_show = PIL.Image.open(file)\n",
    "    gray_img= ROI_mask_images_show.convert(\"L\")\n",
    "    plt.imshow(gray_img, cmap='gray')"
   ],
   "metadata": {
    "execution": {
     "iopub.status.busy": "2023-02-22T16:06:24.337735Z",
     "iopub.execute_input": "2023-02-22T16:06:24.338128Z",
     "iopub.status.idle": "2023-02-22T16:06:29.473857Z",
     "shell.execute_reply.started": "2023-02-22T16:06:24.338098Z",
     "shell.execute_reply": "2023-02-22T16:06:29.472760Z"
    },
    "trusted": true
   },
   "execution_count": 14,
   "outputs": [
    {
     "data": {
      "text/plain": "<Figure size 640x480 with 1 Axes>",
      "image/png": "[encoded data removed]"
     },
     "metadata": {},
     "output_type": "display_data"
    }
   ]
  },
  {
   "cell_type": "code",
   "source": [
    "data_1=pd.read_csv('Dataset/csv/calc_case_description_train_set.csv')"
   ],
   "metadata": {
    "execution": {
     "iopub.status.busy": "2023-02-22T16:13:45.483588Z",
     "iopub.execute_input": "2023-02-22T16:13:45.484031Z",
     "iopub.status.idle": "2023-02-22T16:13:45.566553Z",
     "shell.execute_reply.started": "2023-02-22T16:13:45.483999Z",
     "shell.execute_reply": "2023-02-22T16:13:45.565583Z"
    },
    "trusted": true
   },
   "execution_count": 15,
   "outputs": []
  },
  {
   "cell_type": "code",
   "source": [
    "data_1.head()"
   ],
   "metadata": {
    "execution": {
     "iopub.status.busy": "2023-02-22T16:13:48.437117Z",
     "iopub.execute_input": "2023-02-22T16:13:48.438223Z",
     "iopub.status.idle": "2023-02-22T16:13:48.456770Z",
     "shell.execute_reply.started": "2023-02-22T16:13:48.438171Z",
     "shell.execute_reply": "2023-02-22T16:13:48.455421Z"
    },
    "trusted": true
   },
   "execution_count": 16,
   "outputs": [
    {
     "data": {
      "text/plain": "  patient_id  breast density left or right breast image view  abnormality id  \\\n0    P_00005               3                RIGHT         CC               1   \n1    P_00005               3                RIGHT        MLO               1   \n2    P_00007               4                 LEFT         CC               1   \n3    P_00007               4                 LEFT        MLO               1   \n4    P_00008               1                 LEFT         CC               1   \n\n  abnormality type    calc type calc distribution  assessment  \\\n0    calcification    AMORPHOUS         CLUSTERED           3   \n1    calcification    AMORPHOUS         CLUSTERED           3   \n2    calcification  PLEOMORPHIC            LINEAR           4   \n3    calcification  PLEOMORPHIC            LINEAR           4   \n4    calcification          NaN          REGIONAL           2   \n\n                 pathology  subtlety  \\\n0                MALIGNANT         3   \n1                MALIGNANT         3   \n2                   BENIGN         4   \n3                   BENIGN         4   \n4  BENIGN_WITHOUT_CALLBACK         3   \n\n                                     image file path  \\\n0  Calc-Training_P_00005_RIGHT_CC/1.3.6.1.4.1.959...   \n1  Calc-Training_P_00005_RIGHT_MLO/1.3.6.1.4.1.95...   \n2  Calc-Training_P_00007_LEFT_CC/1.3.6.1.4.1.9590...   \n3  Calc-Training_P_00007_LEFT_MLO/1.3.6.1.4.1.959...   \n4  Calc-Training_P_00008_LEFT_CC/1.3.6.1.4.1.9590...   \n\n                             cropped image file path  \\\n0  Calc-Training_P_00005_RIGHT_CC_1/1.3.6.1.4.1.9...   \n1  Calc-Training_P_00005_RIGHT_MLO_1/1.3.6.1.4.1....   \n2  Calc-Training_P_00007_LEFT_CC_1/1.3.6.1.4.1.95...   \n3  Calc-Training_P_00007_LEFT_MLO_1/1.3.6.1.4.1.9...   \n4  Calc-Training_P_00008_LEFT_CC_1/1.3.6.1.4.1.95...   \n\n                                  ROI mask file path  \n0  Calc-Training_P_00005_RIGHT_CC_1/1.3.6.1.4.1.9...  \n1  Calc-Training_P_00005_RIGHT_MLO_1/1.3.6.1.4.1....  \n2  Calc-Training_P_00007_LEFT_CC_1/1.3.6.1.4.1.95...  \n3  Calc-Training_P_00007_LEFT_MLO_1/1.3.6.1.4.1.9...  \n4  Calc-Training_P_00008_LEFT_CC_1/1.3.6.1.4.1.95...  ",
      "text/html": "<div>\n<style scoped>\n    .dataframe tbody tr th:only-of-type {\n        vertical-align: middle;\n    }\n\n    .dataframe tbody tr th {\n        vertical-align: top;\n    }\n\n    .dataframe thead th {\n        text-align: right;\n    }\n</style>\n<table border=\"1\" class=\"dataframe\">\n  <thead>\n    <tr style=\"text-align: right;\">\n      <th></th>\n      <th>patient_id</th>\n      <th>breast density</th>\n      <th>left or right breast</th>\n      <th>image view</th>\n      <th>abnormality id</th>\n      <th>abnormality type</th>\n      <th>calc type</th>\n      <th>calc distribution</th>\n      <th>assessment</th>\n      <th>pathology</th>\n      <th>subtlety</th>\n      <th>image file path</th>\n      <th>cropped image file path</th>\n      <th>ROI mask file path</th>\n    </tr>\n  </thead>\n  <tbody>\n    <tr>\n      <th>0</th>\n      <td>P_00005</td>\n      <td>3</td>\n      <td>RIGHT</td>\n      <td>CC</td>\n      <td>1</td>\n      <td>calcification</td>\n      <td>AMORPHOUS</td>\n      <td>CLUSTERED</td>\n      <td>3</td>\n      <td>MALIGNANT</td>\n      <td>3</td>\n      <td>Calc-Training_P_00005_RIGHT_CC/1.3.6.1.4.1.959...</td>\n      <td>Calc-Training_P_00005_RIGHT_CC_1/1.3.6.1.4.1.9...</td>\n      <td>Calc-Training_P_00005_RIGHT_CC_1/1.3.6.1.4.1.9...</td>\n    </tr>\n    <tr>\n      <th>1</th>\n      <td>P_00005</td>\n      <td>3</td>\n      <td>RIGHT</td>\n      <td>MLO</td>\n      <td>1</td>\n      <td>calcification</td>\n      <td>AMORPHOUS</td>\n      <td>CLUSTERED</td>\n      <td>3</td>\n      <td>MALIGNANT</td>\n      <td>3</td>\n      <td>Calc-Training_P_00005_RIGHT_MLO/1.3.6.1.4.1.95...</td>\n      <td>Calc-Training_P_00005_RIGHT_MLO_1/1.3.6.1.4.1....</td>\n      <td>Calc-Training_P_00005_RIGHT_MLO_1/1.3.6.1.4.1....</td>\n    </tr>\n    <tr>\n      <th>2</th>\n      <td>P_00007</td>\n      <td>4</td>\n      <td>LEFT</td>\n      <td>CC</td>\n      <td>1</td>\n      <td>calcification</td>\n      <td>PLEOMORPHIC</td>\n      <td>LINEAR</td>\n      <td>4</td>\n      <td>BENIGN</td>\n      <td>4</td>\n      <td>Calc-Training_P_00007_LEFT_CC/1.3.6.1.4.1.9590...</td>\n      <td>Calc-Training_P_00007_LEFT_CC_1/1.3.6.1.4.1.95...</td>\n      <td>Calc-Training_P_00007_LEFT_CC_1/1.3.6.1.4.1.95...</td>\n    </tr>\n    <tr>\n      <th>3</th>\n      <td>P_00007</td>\n      <td>4</td>\n      <td>LEFT</td>\n      <td>MLO</td>\n      <td>1</td>\n      <td>calcification</td>\n      <td>PLEOMORPHIC</td>\n      <td>LINEAR</td>\n      <td>4</td>\n      <td>BENIGN</td>\n      <td>4</td>\n      <td>Calc-Training_P_00007_LEFT_MLO/1.3.6.1.4.1.959...</td>\n      <td>Calc-Training_P_00007_LEFT_MLO_1/1.3.6.1.4.1.9...</td>\n      <td>Calc-Training_P_00007_LEFT_MLO_1/1.3.6.1.4.1.9...</td>\n    </tr>\n    <tr>\n      <th>4</th>\n      <td>P_00008</td>\n      <td>1</td>\n      <td>LEFT</td>\n      <td>CC</td>\n      <td>1</td>\n      <td>calcification</td>\n      <td>NaN</td>\n      <td>REGIONAL</td>\n      <td>2</td>\n      <td>BENIGN_WITHOUT_CALLBACK</td>\n      <td>3</td>\n      <td>Calc-Training_P_00008_LEFT_CC/1.3.6.1.4.1.9590...</td>\n      <td>Calc-Training_P_00008_LEFT_CC_1/1.3.6.1.4.1.95...</td>\n      <td>Calc-Training_P_00008_LEFT_CC_1/1.3.6.1.4.1.95...</td>\n    </tr>\n  </tbody>\n</table>\n</div>"
     },
     "execution_count": 16,
     "metadata": {},
     "output_type": "execute_result"
    }
   ]
  },
  {
   "cell_type": "code",
   "source": [
    "data_1.info()"
   ],
   "metadata": {
    "execution": {
     "iopub.status.busy": "2023-02-22T16:13:54.191594Z",
     "iopub.execute_input": "2023-02-22T16:13:54.192628Z",
     "iopub.status.idle": "2023-02-22T16:13:54.208010Z",
     "shell.execute_reply.started": "2023-02-22T16:13:54.192553Z",
     "shell.execute_reply": "2023-02-22T16:13:54.206690Z"
    },
    "trusted": true
   },
   "execution_count": 17,
   "outputs": [
    {
     "name": "stdout",
     "output_type": "stream",
     "text": [
      "<class 'pandas.core.frame.DataFrame'>\n",
      "RangeIndex: 1546 entries, 0 to 1545\n",
      "Data columns (total 14 columns):\n",
      " #   Column                   Non-Null Count  Dtype \n",
      "---  ------                   --------------  ----- \n",
      " 0   patient_id               1546 non-null   object\n",
      " 1   breast density           1546 non-null   int64 \n",
      " 2   left or right breast     1546 non-null   object\n",
      " 3   image view               1546 non-null   object\n",
      " 4   abnormality id           1546 non-null   int64 \n",
      " 5   abnormality type         1546 non-null   object\n",
      " 6   calc type                1526 non-null   object\n",
      " 7   calc distribution        1170 non-null   object\n",
      " 8   assessment               1546 non-null   int64 \n",
      " 9   pathology                1546 non-null   object\n",
      " 10  subtlety                 1546 non-null   int64 \n",
      " 11  image file path          1546 non-null   object\n",
      " 12  cropped image file path  1546 non-null   object\n",
      " 13  ROI mask file path       1546 non-null   object\n",
      "dtypes: int64(4), object(10)\n",
      "memory usage: 169.2+ KB\n"
     ]
    }
   ]
  },
  {
   "cell_type": "code",
   "source": [
    "data_1.describe()"
   ],
   "metadata": {
    "execution": {
     "iopub.status.busy": "2023-02-22T16:14:00.215181Z",
     "iopub.execute_input": "2023-02-22T16:14:00.215590Z",
     "iopub.status.idle": "2023-02-22T16:14:00.241725Z",
     "shell.execute_reply.started": "2023-02-22T16:14:00.215558Z",
     "shell.execute_reply": "2023-02-22T16:14:00.240534Z"
    },
    "trusted": true
   },
   "execution_count": 18,
   "outputs": [
    {
     "data": {
      "text/plain": "       breast density  abnormality id   assessment     subtlety\ncount     1546.000000     1546.000000  1546.000000  1546.000000\nmean         2.663648        1.415265     3.258732     3.411384\nstd          0.937219        0.903571     1.229231     1.179754\nmin          1.000000        1.000000     0.000000     1.000000\n25%          2.000000        1.000000     2.000000     3.000000\n50%          3.000000        1.000000     4.000000     3.000000\n75%          3.000000        1.000000     4.000000     4.000000\nmax          4.000000        7.000000     5.000000     5.000000",
      "text/html": "<div>\n<style scoped>\n    .dataframe tbody tr th:only-of-type {\n        vertical-align: middle;\n    }\n\n    .dataframe tbody tr th {\n        vertical-align: top;\n    }\n\n    .dataframe thead th {\n        text-align: right;\n    }\n</style>\n<table border=\"1\" class=\"dataframe\">\n  <thead>\n    <tr style=\"text-align: right;\">\n      <th></th>\n      <th>breast density</th>\n      <th>abnormality id</th>\n      <th>assessment</th>\n      <th>subtlety</th>\n    </tr>\n  </thead>\n  <tbody>\n    <tr>\n      <th>count</th>\n      <td>1546.000000</td>\n      <td>1546.000000</td>\n      <td>1546.000000</td>\n      <td>1546.000000</td>\n    </tr>\n    <tr>\n      <th>mean</th>\n      <td>2.663648</td>\n      <td>1.415265</td>\n      <td>3.258732</td>\n      <td>3.411384</td>\n    </tr>\n    <tr>\n      <th>std</th>\n      <td>0.937219</td>\n      <td>0.903571</td>\n      <td>1.229231</td>\n      <td>1.179754</td>\n    </tr>\n    <tr>\n      <th>min</th>\n      <td>1.000000</td>\n      <td>1.000000</td>\n      <td>0.000000</td>\n      <td>1.000000</td>\n    </tr>\n    <tr>\n      <th>25%</th>\n      <td>2.000000</td>\n      <td>1.000000</td>\n      <td>2.000000</td>\n      <td>3.000000</td>\n    </tr>\n    <tr>\n      <th>50%</th>\n      <td>3.000000</td>\n      <td>1.000000</td>\n      <td>4.000000</td>\n      <td>3.000000</td>\n    </tr>\n    <tr>\n      <th>75%</th>\n      <td>3.000000</td>\n      <td>1.000000</td>\n      <td>4.000000</td>\n      <td>4.000000</td>\n    </tr>\n    <tr>\n      <th>max</th>\n      <td>4.000000</td>\n      <td>7.000000</td>\n      <td>5.000000</td>\n      <td>5.000000</td>\n    </tr>\n  </tbody>\n</table>\n</div>"
     },
     "execution_count": 18,
     "metadata": {},
     "output_type": "execute_result"
    }
   ]
  },
  {
   "cell_type": "code",
   "source": [
    "data_2=pd.read_csv('Dataset/csv/mass_case_description_train_set.csv')"
   ],
   "metadata": {
    "execution": {
     "iopub.status.busy": "2023-02-22T16:14:06.807017Z",
     "iopub.execute_input": "2023-02-22T16:14:06.808102Z",
     "iopub.status.idle": "2023-02-22T16:14:06.852157Z",
     "shell.execute_reply.started": "2023-02-22T16:14:06.808052Z",
     "shell.execute_reply": "2023-02-22T16:14:06.851197Z"
    },
    "trusted": true
   },
   "execution_count": 19,
   "outputs": []
  },
  {
   "cell_type": "code",
   "source": [
    "data_2.head()"
   ],
   "metadata": {
    "execution": {
     "iopub.status.busy": "2023-02-22T16:14:09.117783Z",
     "iopub.execute_input": "2023-02-22T16:14:09.118768Z",
     "iopub.status.idle": "2023-02-22T16:14:09.136719Z",
     "shell.execute_reply.started": "2023-02-22T16:14:09.118730Z",
     "shell.execute_reply": "2023-02-22T16:14:09.135403Z"
    },
    "trusted": true
   },
   "execution_count": 20,
   "outputs": [
    {
     "data": {
      "text/plain": "  patient_id  breast_density left or right breast image view  abnormality id  \\\n0    P_00001               3                 LEFT         CC               1   \n1    P_00001               3                 LEFT        MLO               1   \n2    P_00004               3                 LEFT         CC               1   \n3    P_00004               3                 LEFT        MLO               1   \n4    P_00004               3                RIGHT        MLO               1   \n\n  abnormality type                          mass shape   mass margins  \\\n0             mass  IRREGULAR-ARCHITECTURAL_DISTORTION     SPICULATED   \n1             mass  IRREGULAR-ARCHITECTURAL_DISTORTION     SPICULATED   \n2             mass            ARCHITECTURAL_DISTORTION    ILL_DEFINED   \n3             mass            ARCHITECTURAL_DISTORTION    ILL_DEFINED   \n4             mass                                OVAL  CIRCUMSCRIBED   \n\n   assessment  pathology  subtlety  \\\n0           4  MALIGNANT         4   \n1           4  MALIGNANT         4   \n2           4     BENIGN         3   \n3           4     BENIGN         3   \n4           4     BENIGN         5   \n\n                                     image file path  \\\n0  Mass-Training_P_00001_LEFT_CC/1.3.6.1.4.1.9590...   \n1  Mass-Training_P_00001_LEFT_MLO/1.3.6.1.4.1.959...   \n2  Mass-Training_P_00004_LEFT_CC/1.3.6.1.4.1.9590...   \n3  Mass-Training_P_00004_LEFT_MLO/1.3.6.1.4.1.959...   \n4  Mass-Training_P_00004_RIGHT_MLO/1.3.6.1.4.1.95...   \n\n                             cropped image file path  \\\n0  Mass-Training_P_00001_LEFT_CC_1/1.3.6.1.4.1.95...   \n1  Mass-Training_P_00001_LEFT_MLO_1/1.3.6.1.4.1.9...   \n2  Mass-Training_P_00004_LEFT_CC_1/1.3.6.1.4.1.95...   \n3  Mass-Training_P_00004_LEFT_MLO_1/1.3.6.1.4.1.9...   \n4  Mass-Training_P_00004_RIGHT_MLO_1/1.3.6.1.4.1....   \n\n                                  ROI mask file path  \n0  Mass-Training_P_00001_LEFT_CC_1/1.3.6.1.4.1.95...  \n1  Mass-Training_P_00001_LEFT_MLO_1/1.3.6.1.4.1.9...  \n2  Mass-Training_P_00004_LEFT_CC_1/1.3.6.1.4.1.95...  \n3  Mass-Training_P_00004_LEFT_MLO_1/1.3.6.1.4.1.9...  \n4  Mass-Training_P_00004_RIGHT_MLO_1/1.3.6.1.4.1....  ",
      "text/html": "<div>\n<style scoped>\n    .dataframe tbody tr th:only-of-type {\n        vertical-align: middle;\n    }\n\n    .dataframe tbody tr th {\n        vertical-align: top;\n    }\n\n    .dataframe thead th {\n        text-align: right;\n    }\n</style>\n<table border=\"1\" class=\"dataframe\">\n  <thead>\n    <tr style=\"text-align: right;\">\n      <th></th>\n      <th>patient_id</th>\n      <th>breast_density</th>\n      <th>left or right breast</th>\n      <th>image view</th>\n      <th>abnormality id</th>\n      <th>abnormality type</th>\n      <th>mass shape</th>\n      <th>mass margins</th>\n      <th>assessment</th>\n      <th>pathology</th>\n      <th>subtlety</th>\n      <th>image file path</th>\n      <th>cropped image file path</th>\n      <th>ROI mask file path</th>\n    </tr>\n  </thead>\n  <tbody>\n    <tr>\n      <th>0</th>\n      <td>P_00001</td>\n      <td>3</td>\n      <td>LEFT</td>\n      <td>CC</td>\n      <td>1</td>\n      <td>mass</td>\n      <td>IRREGULAR-ARCHITECTURAL_DISTORTION</td>\n      <td>SPICULATED</td>\n      <td>4</td>\n      <td>MALIGNANT</td>\n      <td>4</td>\n      <td>Mass-Training_P_00001_LEFT_CC/1.3.6.1.4.1.9590...</td>\n      <td>Mass-Training_P_00001_LEFT_CC_1/1.3.6.1.4.1.95...</td>\n      <td>Mass-Training_P_00001_LEFT_CC_1/1.3.6.1.4.1.95...</td>\n    </tr>\n    <tr>\n      <th>1</th>\n      <td>P_00001</td>\n      <td>3</td>\n      <td>LEFT</td>\n      <td>MLO</td>\n      <td>1</td>\n      <td>mass</td>\n      <td>IRREGULAR-ARCHITECTURAL_DISTORTION</td>\n      <td>SPICULATED</td>\n      <td>4</td>\n      <td>MALIGNANT</td>\n      <td>4</td>\n      <td>Mass-Training_P_00001_LEFT_MLO/1.3.6.1.4.1.959...</td>\n      <td>Mass-Training_P_00001_LEFT_MLO_1/1.3.6.1.4.1.9...</td>\n      <td>Mass-Training_P_00001_LEFT_MLO_1/1.3.6.1.4.1.9...</td>\n    </tr>\n    <tr>\n      <th>2</th>\n      <td>P_00004</td>\n      <td>3</td>\n      <td>LEFT</td>\n      <td>CC</td>\n      <td>1</td>\n      <td>mass</td>\n      <td>ARCHITECTURAL_DISTORTION</td>\n      <td>ILL_DEFINED</td>\n      <td>4</td>\n      <td>BENIGN</td>\n      <td>3</td>\n      <td>Mass-Training_P_00004_LEFT_CC/1.3.6.1.4.1.9590...</td>\n      <td>Mass-Training_P_00004_LEFT_CC_1/1.3.6.1.4.1.95...</td>\n      <td>Mass-Training_P_00004_LEFT_CC_1/1.3.6.1.4.1.95...</td>\n    </tr>\n    <tr>\n      <th>3</th>\n      <td>P_00004</td>\n      <td>3</td>\n      <td>LEFT</td>\n      <td>MLO</td>\n      <td>1</td>\n      <td>mass</td>\n      <td>ARCHITECTURAL_DISTORTION</td>\n      <td>ILL_DEFINED</td>\n      <td>4</td>\n      <td>BENIGN</td>\n      <td>3</td>\n      <td>Mass-Training_P_00004_LEFT_MLO/1.3.6.1.4.1.959...</td>\n      <td>Mass-Training_P_00004_LEFT_MLO_1/1.3.6.1.4.1.9...</td>\n      <td>Mass-Training_P_00004_LEFT_MLO_1/1.3.6.1.4.1.9...</td>\n    </tr>\n    <tr>\n      <th>4</th>\n      <td>P_00004</td>\n      <td>3</td>\n      <td>RIGHT</td>\n      <td>MLO</td>\n      <td>1</td>\n      <td>mass</td>\n      <td>OVAL</td>\n      <td>CIRCUMSCRIBED</td>\n      <td>4</td>\n      <td>BENIGN</td>\n      <td>5</td>\n      <td>Mass-Training_P_00004_RIGHT_MLO/1.3.6.1.4.1.95...</td>\n      <td>Mass-Training_P_00004_RIGHT_MLO_1/1.3.6.1.4.1....</td>\n      <td>Mass-Training_P_00004_RIGHT_MLO_1/1.3.6.1.4.1....</td>\n    </tr>\n  </tbody>\n</table>\n</div>"
     },
     "execution_count": 20,
     "metadata": {},
     "output_type": "execute_result"
    }
   ]
  },
  {
   "cell_type": "code",
   "source": [
    "data_2.info()"
   ],
   "metadata": {
    "execution": {
     "iopub.status.busy": "2023-02-22T16:14:12.571595Z",
     "iopub.execute_input": "2023-02-22T16:14:12.572050Z",
     "iopub.status.idle": "2023-02-22T16:14:12.588169Z",
     "shell.execute_reply.started": "2023-02-22T16:14:12.572013Z",
     "shell.execute_reply": "2023-02-22T16:14:12.586888Z"
    },
    "trusted": true
   },
   "execution_count": 21,
   "outputs": [
    {
     "name": "stdout",
     "output_type": "stream",
     "text": [
      "<class 'pandas.core.frame.DataFrame'>\n",
      "RangeIndex: 1318 entries, 0 to 1317\n",
      "Data columns (total 14 columns):\n",
      " #   Column                   Non-Null Count  Dtype \n",
      "---  ------                   --------------  ----- \n",
      " 0   patient_id               1318 non-null   object\n",
      " 1   breast_density           1318 non-null   int64 \n",
      " 2   left or right breast     1318 non-null   object\n",
      " 3   image view               1318 non-null   object\n",
      " 4   abnormality id           1318 non-null   int64 \n",
      " 5   abnormality type         1318 non-null   object\n",
      " 6   mass shape               1314 non-null   object\n",
      " 7   mass margins             1275 non-null   object\n",
      " 8   assessment               1318 non-null   int64 \n",
      " 9   pathology                1318 non-null   object\n",
      " 10  subtlety                 1318 non-null   int64 \n",
      " 11  image file path          1318 non-null   object\n",
      " 12  cropped image file path  1318 non-null   object\n",
      " 13  ROI mask file path       1318 non-null   object\n",
      "dtypes: int64(4), object(10)\n",
      "memory usage: 144.3+ KB\n"
     ]
    }
   ]
  },
  {
   "cell_type": "code",
   "source": [
    "data_2.describe()"
   ],
   "metadata": {
    "execution": {
     "iopub.status.busy": "2023-02-22T16:14:16.940098Z",
     "iopub.execute_input": "2023-02-22T16:14:16.940536Z",
     "iopub.status.idle": "2023-02-22T16:14:16.966929Z",
     "shell.execute_reply.started": "2023-02-22T16:14:16.940499Z",
     "shell.execute_reply": "2023-02-22T16:14:16.965852Z"
    },
    "trusted": true
   },
   "execution_count": 22,
   "outputs": [
    {
     "data": {
      "text/plain": "       breast_density  abnormality id   assessment     subtlety\ncount     1318.000000     1318.000000  1318.000000  1318.000000\nmean         2.203338        1.116085     3.504552     3.965857\nstd          0.873774        0.467013     1.414609     1.102032\nmin          1.000000        1.000000     0.000000     0.000000\n25%          2.000000        1.000000     3.000000     3.000000\n50%          2.000000        1.000000     4.000000     4.000000\n75%          3.000000        1.000000     4.000000     5.000000\nmax          4.000000        6.000000     5.000000     5.000000",
      "text/html": "<div>\n<style scoped>\n    .dataframe tbody tr th:only-of-type {\n        vertical-align: middle;\n    }\n\n    .dataframe tbody tr th {\n        vertical-align: top;\n    }\n\n    .dataframe thead th {\n        text-align: right;\n    }\n</style>\n<table border=\"1\" class=\"dataframe\">\n  <thead>\n    <tr style=\"text-align: right;\">\n      <th></th>\n      <th>breast_density</th>\n      <th>abnormality id</th>\n      <th>assessment</th>\n      <th>subtlety</th>\n    </tr>\n  </thead>\n  <tbody>\n    <tr>\n      <th>count</th>\n      <td>1318.000000</td>\n      <td>1318.000000</td>\n      <td>1318.000000</td>\n      <td>1318.000000</td>\n    </tr>\n    <tr>\n      <th>mean</th>\n      <td>2.203338</td>\n      <td>1.116085</td>\n      <td>3.504552</td>\n      <td>3.965857</td>\n    </tr>\n    <tr>\n      <th>std</th>\n      <td>0.873774</td>\n      <td>0.467013</td>\n      <td>1.414609</td>\n      <td>1.102032</td>\n    </tr>\n    <tr>\n      <th>min</th>\n      <td>1.000000</td>\n      <td>1.000000</td>\n      <td>0.000000</td>\n      <td>0.000000</td>\n    </tr>\n    <tr>\n      <th>25%</th>\n      <td>2.000000</td>\n      <td>1.000000</td>\n      <td>3.000000</td>\n      <td>3.000000</td>\n    </tr>\n    <tr>\n      <th>50%</th>\n      <td>2.000000</td>\n      <td>1.000000</td>\n      <td>4.000000</td>\n      <td>4.000000</td>\n    </tr>\n    <tr>\n      <th>75%</th>\n      <td>3.000000</td>\n      <td>1.000000</td>\n      <td>4.000000</td>\n      <td>5.000000</td>\n    </tr>\n    <tr>\n      <th>max</th>\n      <td>4.000000</td>\n      <td>6.000000</td>\n      <td>5.000000</td>\n      <td>5.000000</td>\n    </tr>\n  </tbody>\n</table>\n</div>"
     },
     "execution_count": 22,
     "metadata": {},
     "output_type": "execute_result"
    }
   ]
  },
  {
   "cell_type": "code",
   "source": [
    "dicom_cleaning_data = dicom_data.copy()\n",
    "dicom_cleaning_data.head()"
   ],
   "metadata": {
    "execution": {
     "iopub.status.busy": "2023-02-22T16:14:21.273874Z",
     "iopub.execute_input": "2023-02-22T16:14:21.274290Z",
     "iopub.status.idle": "2023-02-22T16:14:21.304481Z",
     "shell.execute_reply.started": "2023-02-22T16:14:21.274259Z",
     "shell.execute_reply": "2023-02-22T16:14:21.303367Z"
    },
    "trusted": true
   },
   "execution_count": 23,
   "outputs": [
    {
     "data": {
      "text/plain": "                                           file_path  \\\n0  CBIS-DDSM/dicom/1.3.6.1.4.1.9590.100.1.2.12930...   \n1  CBIS-DDSM/dicom/1.3.6.1.4.1.9590.100.1.2.24838...   \n2  CBIS-DDSM/dicom/1.3.6.1.4.1.9590.100.1.2.26721...   \n3  CBIS-DDSM/dicom/1.3.6.1.4.1.9590.100.1.2.38118...   \n4  CBIS-DDSM/dicom/1.3.6.1.4.1.9590.100.1.2.38118...   \n\n                                          image_path  AccessionNumber  \\\n0  CBIS-DDSM/jpeg/1.3.6.1.4.1.9590.100.1.2.129308...              NaN   \n1  CBIS-DDSM/jpeg/1.3.6.1.4.1.9590.100.1.2.248386...              NaN   \n2  CBIS-DDSM/jpeg/1.3.6.1.4.1.9590.100.1.2.267213...              NaN   \n3  CBIS-DDSM/jpeg/1.3.6.1.4.1.9590.100.1.2.381187...              NaN   \n4  CBIS-DDSM/jpeg/1.3.6.1.4.1.9590.100.1.2.381187...              NaN   \n\n   BitsAllocated  BitsStored BodyPartExamined  Columns  ContentDate  \\\n0             16          16           BREAST      351     20160426   \n1             16          16           BREAST     3526     20160426   \n2             16          16           BREAST     1546     20160503   \n3             16          16           BREAST       97     20160503   \n4              8           8      Left Breast     3104     20160503   \n\n   ContentTime ConversionType  ...  \\\n0   131732.685            WSD  ...   \n1   143829.101            WSD  ...   \n2   111956.298            WSD  ...   \n3   115347.770            WSD  ...   \n4   115347.770            WSD  ...   \n\n   SecondaryCaptureDeviceManufacturerModelName      SeriesDescription  \\\n0                                       MATLAB         cropped images   \n1                                       MATLAB  full mammogram images   \n2                                       MATLAB  full mammogram images   \n3                                       MATLAB         cropped images   \n4                                       MATLAB                    NaN   \n\n                                   SeriesInstanceUID SeriesNumber  \\\n0  1.3.6.1.4.1.9590.100.1.2.129308726812851964007...            1   \n1  1.3.6.1.4.1.9590.100.1.2.248386742010678582309...            1   \n2  1.3.6.1.4.1.9590.100.1.2.267213171011171858918...            1   \n3  1.3.6.1.4.1.9590.100.1.2.381187369611524586537...            1   \n4  1.3.6.1.4.1.9590.100.1.2.381187369611524586537...            1   \n\n  SmallestImagePixelValue  SpecificCharacterSet   StudyDate StudyID  \\\n0                   23078            ISO_IR 100  20160720.0    DDSM   \n1                       0            ISO_IR 100  20160720.0    DDSM   \n2                       0            ISO_IR 100  20160807.0    DDSM   \n3                   32298            ISO_IR 100  20170829.0    DDSM   \n4                       0            ISO_IR 100         NaN    DDSM   \n\n                                    StudyInstanceUID  StudyTime  \n0  1.3.6.1.4.1.9590.100.1.2.271867287611061855725...   214951.0  \n1  1.3.6.1.4.1.9590.100.1.2.161516517311681906612...   193426.0  \n2  1.3.6.1.4.1.9590.100.1.2.291043622711253836701...   161814.0  \n3  1.3.6.1.4.1.9590.100.1.2.335006093711888937440...   180109.0  \n4  1.3.6.1.4.1.9590.100.1.2.335006093711888937440...        NaN  \n\n[5 rows x 38 columns]",
      "text/html": "<div>\n<style scoped>\n    .dataframe tbody tr th:only-of-type {\n        vertical-align: middle;\n    }\n\n    .dataframe tbody tr th {\n        vertical-align: top;\n    }\n\n    .dataframe thead th {\n        text-align: right;\n    }\n</style>\n<table border=\"1\" class=\"dataframe\">\n  <thead>\n    <tr style=\"text-align: right;\">\n      <th></th>\n      <th>file_path</th>\n      <th>image_path</th>\n      <th>AccessionNumber</th>\n      <th>BitsAllocated</th>\n      <th>BitsStored</th>\n      <th>BodyPartExamined</th>\n      <th>Columns</th>\n      <th>ContentDate</th>\n      <th>ContentTime</th>\n      <th>ConversionType</th>\n      <th>...</th>\n      <th>SecondaryCaptureDeviceManufacturerModelName</th>\n      <th>SeriesDescription</th>\n      <th>SeriesInstanceUID</th>\n      <th>SeriesNumber</th>\n      <th>SmallestImagePixelValue</th>\n      <th>SpecificCharacterSet</th>\n      <th>StudyDate</th>\n      <th>StudyID</th>\n      <th>StudyInstanceUID</th>\n      <th>StudyTime</th>\n    </tr>\n  </thead>\n  <tbody>\n    <tr>\n      <th>0</th>\n      <td>CBIS-DDSM/dicom/1.3.6.1.4.1.9590.100.1.2.12930...</td>\n      <td>CBIS-DDSM/jpeg/1.3.6.1.4.1.9590.100.1.2.129308...</td>\n      <td>NaN</td>\n      <td>16</td>\n      <td>16</td>\n      <td>BREAST</td>\n      <td>351</td>\n      <td>20160426</td>\n      <td>131732.685</td>\n      <td>WSD</td>\n      <td>...</td>\n      <td>MATLAB</td>\n      <td>cropped images</td>\n      <td>1.3.6.1.4.1.9590.100.1.2.129308726812851964007...</td>\n      <td>1</td>\n      <td>23078</td>\n      <td>ISO_IR 100</td>\n      <td>20160720.0</td>\n      <td>DDSM</td>\n      <td>1.3.6.1.4.1.9590.100.1.2.271867287611061855725...</td>\n      <td>214951.0</td>\n    </tr>\n    <tr>\n      <th>1</th>\n      <td>CBIS-DDSM/dicom/1.3.6.1.4.1.9590.100.1.2.24838...</td>\n      <td>CBIS-DDSM/jpeg/1.3.6.1.4.1.9590.100.1.2.248386...</td>\n      <td>NaN</td>\n      <td>16</td>\n      <td>16</td>\n      <td>BREAST</td>\n      <td>3526</td>\n      <td>20160426</td>\n      <td>143829.101</td>\n      <td>WSD</td>\n      <td>...</td>\n      <td>MATLAB</td>\n      <td>full mammogram images</td>\n      <td>1.3.6.1.4.1.9590.100.1.2.248386742010678582309...</td>\n      <td>1</td>\n      <td>0</td>\n      <td>ISO_IR 100</td>\n      <td>20160720.0</td>\n      <td>DDSM</td>\n      <td>1.3.6.1.4.1.9590.100.1.2.161516517311681906612...</td>\n      <td>193426.0</td>\n    </tr>\n    <tr>\n      <th>2</th>\n      <td>CBIS-DDSM/dicom/1.3.6.1.4.1.9590.100.1.2.26721...</td>\n      <td>CBIS-DDSM/jpeg/1.3.6.1.4.1.9590.100.1.2.267213...</td>\n      <td>NaN</td>\n      <td>16</td>\n      <td>16</td>\n      <td>BREAST</td>\n      <td>1546</td>\n      <td>20160503</td>\n      <td>111956.298</td>\n      <td>WSD</td>\n      <td>...</td>\n      <td>MATLAB</td>\n      <td>full mammogram images</td>\n      <td>1.3.6.1.4.1.9590.100.1.2.267213171011171858918...</td>\n      <td>1</td>\n      <td>0</td>\n      <td>ISO_IR 100</td>\n      <td>20160807.0</td>\n      <td>DDSM</td>\n      <td>1.3.6.1.4.1.9590.100.1.2.291043622711253836701...</td>\n      <td>161814.0</td>\n    </tr>\n    <tr>\n      <th>3</th>\n      <td>CBIS-DDSM/dicom/1.3.6.1.4.1.9590.100.1.2.38118...</td>\n      <td>CBIS-DDSM/jpeg/1.3.6.1.4.1.9590.100.1.2.381187...</td>\n      <td>NaN</td>\n      <td>16</td>\n      <td>16</td>\n      <td>BREAST</td>\n      <td>97</td>\n      <td>20160503</td>\n      <td>115347.770</td>\n      <td>WSD</td>\n      <td>...</td>\n      <td>MATLAB</td>\n      <td>cropped images</td>\n      <td>1.3.6.1.4.1.9590.100.1.2.381187369611524586537...</td>\n      <td>1</td>\n      <td>32298</td>\n      <td>ISO_IR 100</td>\n      <td>20170829.0</td>\n      <td>DDSM</td>\n      <td>1.3.6.1.4.1.9590.100.1.2.335006093711888937440...</td>\n      <td>180109.0</td>\n    </tr>\n    <tr>\n      <th>4</th>\n      <td>CBIS-DDSM/dicom/1.3.6.1.4.1.9590.100.1.2.38118...</td>\n      <td>CBIS-DDSM/jpeg/1.3.6.1.4.1.9590.100.1.2.381187...</td>\n      <td>NaN</td>\n      <td>8</td>\n      <td>8</td>\n      <td>Left Breast</td>\n      <td>3104</td>\n      <td>20160503</td>\n      <td>115347.770</td>\n      <td>WSD</td>\n      <td>...</td>\n      <td>MATLAB</td>\n      <td>NaN</td>\n      <td>1.3.6.1.4.1.9590.100.1.2.381187369611524586537...</td>\n      <td>1</td>\n      <td>0</td>\n      <td>ISO_IR 100</td>\n      <td>NaN</td>\n      <td>DDSM</td>\n      <td>1.3.6.1.4.1.9590.100.1.2.335006093711888937440...</td>\n      <td>NaN</td>\n    </tr>\n  </tbody>\n</table>\n<p>5 rows × 38 columns</p>\n</div>"
     },
     "execution_count": 23,
     "metadata": {},
     "output_type": "execute_result"
    }
   ]
  },
  {
   "cell_type": "code",
   "source": [
    "dicom_cleaning_data.drop(['PatientBirthDate','AccessionNumber','Columns','ContentDate','ContentTime','PatientSex','PatientBirthDate',\n",
    "                                                'ReferringPhysicianName','Rows','SOPClassUID','SOPInstanceUID',\n",
    "                                                'StudyDate','StudyID','StudyInstanceUID','StudyTime','InstanceNumber','SeriesInstanceUID','SeriesNumber'],axis =1, inplace=True) "
   ],
   "metadata": {
    "execution": {
     "iopub.status.busy": "2023-02-22T16:14:36.626840Z",
     "iopub.execute_input": "2023-02-22T16:14:36.627244Z",
     "iopub.status.idle": "2023-02-22T16:14:36.637101Z",
     "shell.execute_reply.started": "2023-02-22T16:14:36.627214Z",
     "shell.execute_reply": "2023-02-22T16:14:36.636178Z"
    },
    "trusted": true
   },
   "execution_count": 24,
   "outputs": []
  },
  {
   "cell_type": "code",
   "source": [
    "dicom_cleaning_data.info()"
   ],
   "metadata": {
    "execution": {
     "iopub.status.busy": "2023-02-22T16:14:41.721746Z",
     "iopub.execute_input": "2023-02-22T16:14:41.722479Z",
     "iopub.status.idle": "2023-02-22T16:14:41.742771Z",
     "shell.execute_reply.started": "2023-02-22T16:14:41.722444Z",
     "shell.execute_reply": "2023-02-22T16:14:41.741422Z"
    },
    "trusted": true
   },
   "execution_count": 25,
   "outputs": [
    {
     "name": "stdout",
     "output_type": "stream",
     "text": [
      "<class 'pandas.core.frame.DataFrame'>\n",
      "RangeIndex: 10237 entries, 0 to 10236\n",
      "Data columns (total 21 columns):\n",
      " #   Column                                       Non-Null Count  Dtype \n",
      "---  ------                                       --------------  ----- \n",
      " 0   file_path                                    10237 non-null  object\n",
      " 1   image_path                                   10237 non-null  object\n",
      " 2   BitsAllocated                                10237 non-null  int64 \n",
      " 3   BitsStored                                   10237 non-null  int64 \n",
      " 4   BodyPartExamined                             10237 non-null  object\n",
      " 5   ConversionType                               10237 non-null  object\n",
      " 6   HighBit                                      10237 non-null  int64 \n",
      " 7   LargestImagePixelValue                       10237 non-null  int64 \n",
      " 8   Laterality                                   9671 non-null   object\n",
      " 9   Modality                                     10237 non-null  object\n",
      " 10  PatientID                                    10237 non-null  object\n",
      " 11  PatientName                                  10237 non-null  object\n",
      " 12  PatientOrientation                           10237 non-null  object\n",
      " 13  PhotometricInterpretation                    10237 non-null  object\n",
      " 14  PixelRepresentation                          10237 non-null  int64 \n",
      " 15  SamplesPerPixel                              10237 non-null  int64 \n",
      " 16  SecondaryCaptureDeviceManufacturer           10237 non-null  object\n",
      " 17  SecondaryCaptureDeviceManufacturerModelName  10237 non-null  object\n",
      " 18  SeriesDescription                            9671 non-null   object\n",
      " 19  SmallestImagePixelValue                      10237 non-null  int64 \n",
      " 20  SpecificCharacterSet                         10237 non-null  object\n",
      "dtypes: int64(7), object(14)\n",
      "memory usage: 1.6+ MB\n"
     ]
    }
   ]
  },
  {
   "cell_type": "code",
   "source": [
    "dicom_cleaning_data.isna().sum()"
   ],
   "metadata": {
    "execution": {
     "iopub.status.busy": "2023-02-22T16:14:49.518106Z",
     "iopub.execute_input": "2023-02-22T16:14:49.518487Z",
     "iopub.status.idle": "2023-02-22T16:14:49.535286Z",
     "shell.execute_reply.started": "2023-02-22T16:14:49.518456Z",
     "shell.execute_reply": "2023-02-22T16:14:49.533979Z"
    },
    "trusted": true
   },
   "execution_count": 26,
   "outputs": [
    {
     "data": {
      "text/plain": "file_path                                        0\nimage_path                                       0\nBitsAllocated                                    0\nBitsStored                                       0\nBodyPartExamined                                 0\nConversionType                                   0\nHighBit                                          0\nLargestImagePixelValue                           0\nLaterality                                     566\nModality                                         0\nPatientID                                        0\nPatientName                                      0\nPatientOrientation                               0\nPhotometricInterpretation                        0\nPixelRepresentation                              0\nSamplesPerPixel                                  0\nSecondaryCaptureDeviceManufacturer               0\nSecondaryCaptureDeviceManufacturerModelName      0\nSeriesDescription                              566\nSmallestImagePixelValue                          0\nSpecificCharacterSet                             0\ndtype: int64"
     },
     "execution_count": 26,
     "metadata": {},
     "output_type": "execute_result"
    }
   ]
  },
  {
   "cell_type": "code",
   "source": [
    "dicom_cleaning_data['SeriesDescription'].fillna(method = 'bfill', axis = 0, inplace=True)"
   ],
   "metadata": {
    "execution": {
     "iopub.status.busy": "2023-02-22T16:14:55.156934Z",
     "iopub.execute_input": "2023-02-22T16:14:55.157332Z",
     "iopub.status.idle": "2023-02-22T16:14:55.170161Z",
     "shell.execute_reply.started": "2023-02-22T16:14:55.157303Z",
     "shell.execute_reply": "2023-02-22T16:14:55.168786Z"
    },
    "trusted": true
   },
   "execution_count": 27,
   "outputs": []
  },
  {
   "cell_type": "code",
   "source": [
    "dicom_cleaning_data['Laterality'].fillna(method = 'bfill', axis = 0, inplace=True)"
   ],
   "metadata": {
    "execution": {
     "iopub.status.busy": "2023-02-22T16:14:58.084527Z",
     "iopub.execute_input": "2023-02-22T16:14:58.084933Z",
     "iopub.status.idle": "2023-02-22T16:14:58.091736Z",
     "shell.execute_reply.started": "2023-02-22T16:14:58.084902Z",
     "shell.execute_reply": "2023-02-22T16:14:58.090519Z"
    },
    "trusted": true
   },
   "execution_count": 28,
   "outputs": []
  },
  {
   "cell_type": "code",
   "source": [
    "dicom_cleaning_data.isna().sum()"
   ],
   "metadata": {
    "execution": {
     "iopub.status.busy": "2023-02-22T16:15:01.618420Z",
     "iopub.execute_input": "2023-02-22T16:15:01.619223Z",
     "iopub.status.idle": "2023-02-22T16:15:01.635553Z",
     "shell.execute_reply.started": "2023-02-22T16:15:01.619178Z",
     "shell.execute_reply": "2023-02-22T16:15:01.634617Z"
    },
    "trusted": true
   },
   "execution_count": 29,
   "outputs": [
    {
     "data": {
      "text/plain": "file_path                                      0\nimage_path                                     0\nBitsAllocated                                  0\nBitsStored                                     0\nBodyPartExamined                               0\nConversionType                                 0\nHighBit                                        0\nLargestImagePixelValue                         0\nLaterality                                     0\nModality                                       0\nPatientID                                      0\nPatientName                                    0\nPatientOrientation                             0\nPhotometricInterpretation                      0\nPixelRepresentation                            0\nSamplesPerPixel                                0\nSecondaryCaptureDeviceManufacturer             0\nSecondaryCaptureDeviceManufacturerModelName    0\nSeriesDescription                              0\nSmallestImagePixelValue                        0\nSpecificCharacterSet                           0\ndtype: int64"
     },
     "execution_count": 29,
     "metadata": {},
     "output_type": "execute_result"
    }
   ]
  },
  {
   "cell_type": "code",
   "source": [
    "Data_cleaning_1 = data_1.copy()"
   ],
   "metadata": {
    "execution": {
     "iopub.status.busy": "2023-02-22T16:15:06.403515Z",
     "iopub.execute_input": "2023-02-22T16:15:06.403995Z",
     "iopub.status.idle": "2023-02-22T16:15:06.409560Z",
     "shell.execute_reply.started": "2023-02-22T16:15:06.403959Z",
     "shell.execute_reply": "2023-02-22T16:15:06.408369Z"
    },
    "trusted": true
   },
   "execution_count": 30,
   "outputs": []
  },
  {
   "cell_type": "code",
   "source": [
    "Data_cleaning_1 = Data_cleaning_1.rename(columns={'calc type':'calc_type'})"
   ],
   "metadata": {
    "execution": {
     "iopub.status.busy": "2023-02-22T16:15:10.449779Z",
     "iopub.execute_input": "2023-02-22T16:15:10.450220Z",
     "iopub.status.idle": "2023-02-22T16:15:10.457089Z",
     "shell.execute_reply.started": "2023-02-22T16:15:10.450189Z",
     "shell.execute_reply": "2023-02-22T16:15:10.455898Z"
    },
    "trusted": true
   },
   "execution_count": 31,
   "outputs": []
  },
  {
   "cell_type": "code",
   "source": [
    "Data_cleaning_1 = Data_cleaning_1.rename(columns={'calc distribution':'calc_distribution'})"
   ],
   "metadata": {
    "execution": {
     "iopub.status.busy": "2023-02-22T16:15:13.691712Z",
     "iopub.execute_input": "2023-02-22T16:15:13.692130Z",
     "iopub.status.idle": "2023-02-22T16:15:13.699010Z",
     "shell.execute_reply.started": "2023-02-22T16:15:13.692099Z",
     "shell.execute_reply": "2023-02-22T16:15:13.697927Z"
    },
    "trusted": true
   },
   "execution_count": 32,
   "outputs": []
  },
  {
   "cell_type": "code",
   "source": [
    "Data_cleaning_1 = Data_cleaning_1.rename(columns={'image view':'image_view'})"
   ],
   "metadata": {
    "execution": {
     "iopub.status.busy": "2023-02-22T16:15:15.390468Z",
     "iopub.execute_input": "2023-02-22T16:15:15.390901Z",
     "iopub.status.idle": "2023-02-22T16:15:15.397366Z",
     "shell.execute_reply.started": "2023-02-22T16:15:15.390868Z",
     "shell.execute_reply": "2023-02-22T16:15:15.396157Z"
    },
    "trusted": true
   },
   "execution_count": 33,
   "outputs": []
  },
  {
   "cell_type": "code",
   "source": [
    "Data_cleaning_1 = Data_cleaning_1.rename(columns={'left or right breast':'left_or_right_breast'})"
   ],
   "metadata": {
    "execution": {
     "iopub.status.busy": "2023-02-22T16:15:16.272839Z",
     "iopub.execute_input": "2023-02-22T16:15:16.273237Z",
     "iopub.status.idle": "2023-02-22T16:15:16.279300Z",
     "shell.execute_reply.started": "2023-02-22T16:15:16.273205Z",
     "shell.execute_reply": "2023-02-22T16:15:16.278237Z"
    },
    "trusted": true
   },
   "execution_count": 34,
   "outputs": []
  },
  {
   "cell_type": "code",
   "source": [
    "Data_cleaning_1 = Data_cleaning_1.rename(columns={'breast density':'breast_density'})"
   ],
   "metadata": {
    "execution": {
     "iopub.status.busy": "2023-02-22T16:15:18.334763Z",
     "iopub.execute_input": "2023-02-22T16:15:18.335159Z",
     "iopub.status.idle": "2023-02-22T16:15:18.341780Z",
     "shell.execute_reply.started": "2023-02-22T16:15:18.335127Z",
     "shell.execute_reply": "2023-02-22T16:15:18.340513Z"
    },
    "trusted": true
   },
   "execution_count": 35,
   "outputs": []
  },
  {
   "cell_type": "code",
   "source": [
    "Data_cleaning_1 = Data_cleaning_1.rename(columns={'abnormality type':'abnormality_type'})"
   ],
   "metadata": {
    "execution": {
     "iopub.status.busy": "2023-02-22T16:15:19.101945Z",
     "iopub.execute_input": "2023-02-22T16:15:19.102363Z",
     "iopub.status.idle": "2023-02-22T16:15:19.108331Z",
     "shell.execute_reply.started": "2023-02-22T16:15:19.102331Z",
     "shell.execute_reply": "2023-02-22T16:15:19.107088Z"
    },
    "trusted": true
   },
   "execution_count": 36,
   "outputs": []
  },
  {
   "cell_type": "code",
   "source": [
    "Data_cleaning_1['pathology'] = Data_cleaning_1['pathology'].astype('category')"
   ],
   "metadata": {
    "execution": {
     "iopub.status.busy": "2023-02-22T16:15:19.575240Z",
     "iopub.execute_input": "2023-02-22T16:15:19.575699Z",
     "iopub.status.idle": "2023-02-22T16:15:19.584163Z",
     "shell.execute_reply.started": "2023-02-22T16:15:19.575658Z",
     "shell.execute_reply": "2023-02-22T16:15:19.582886Z"
    },
    "trusted": true
   },
   "execution_count": 37,
   "outputs": []
  },
  {
   "cell_type": "code",
   "source": [
    "Data_cleaning_1['calc_type'] = Data_cleaning_1['calc_type'].astype('category')"
   ],
   "metadata": {
    "execution": {
     "iopub.status.busy": "2023-02-22T16:15:21.389207Z",
     "iopub.execute_input": "2023-02-22T16:15:21.389991Z",
     "iopub.status.idle": "2023-02-22T16:15:21.397449Z",
     "shell.execute_reply.started": "2023-02-22T16:15:21.389940Z",
     "shell.execute_reply": "2023-02-22T16:15:21.396152Z"
    },
    "trusted": true
   },
   "execution_count": 38,
   "outputs": []
  },
  {
   "cell_type": "code",
   "source": [
    "Data_cleaning_1['calc_distribution'] = Data_cleaning_1['calc_distribution'].astype('category')"
   ],
   "metadata": {
    "execution": {
     "iopub.status.busy": "2023-02-22T16:15:22.044809Z",
     "iopub.execute_input": "2023-02-22T16:15:22.045645Z",
     "iopub.status.idle": "2023-02-22T16:15:22.052032Z",
     "shell.execute_reply.started": "2023-02-22T16:15:22.045592Z",
     "shell.execute_reply": "2023-02-22T16:15:22.050946Z"
    },
    "trusted": true
   },
   "execution_count": 39,
   "outputs": []
  },
  {
   "cell_type": "code",
   "source": [
    "Data_cleaning_1['abnormality_type'] = Data_cleaning_1['abnormality_type'].astype('category')"
   ],
   "metadata": {
    "execution": {
     "iopub.status.busy": "2023-02-22T16:15:22.694316Z",
     "iopub.execute_input": "2023-02-22T16:15:22.694778Z",
     "iopub.status.idle": "2023-02-22T16:15:22.703014Z",
     "shell.execute_reply.started": "2023-02-22T16:15:22.694739Z",
     "shell.execute_reply": "2023-02-22T16:15:22.701696Z"
    },
    "trusted": true
   },
   "execution_count": 40,
   "outputs": []
  },
  {
   "cell_type": "code",
   "source": [
    "Data_cleaning_1['image_view'] = Data_cleaning_1['image_view'].astype('category')"
   ],
   "metadata": {
    "execution": {
     "iopub.status.busy": "2023-02-22T16:15:23.551655Z",
     "iopub.execute_input": "2023-02-22T16:15:23.552108Z",
     "iopub.status.idle": "2023-02-22T16:15:23.559143Z",
     "shell.execute_reply.started": "2023-02-22T16:15:23.552063Z",
     "shell.execute_reply": "2023-02-22T16:15:23.557769Z"
    },
    "trusted": true
   },
   "execution_count": 41,
   "outputs": []
  },
  {
   "cell_type": "code",
   "source": [
    "Data_cleaning_1['left_or_right_breast'] = Data_cleaning_1['left_or_right_breast'].astype('category')"
   ],
   "metadata": {
    "execution": {
     "iopub.status.busy": "2023-02-22T16:15:25.099031Z",
     "iopub.execute_input": "2023-02-22T16:15:25.099456Z",
     "iopub.status.idle": "2023-02-22T16:15:25.107499Z",
     "shell.execute_reply.started": "2023-02-22T16:15:25.099422Z",
     "shell.execute_reply": "2023-02-22T16:15:25.106086Z"
    },
    "trusted": true
   },
   "execution_count": 42,
   "outputs": []
  },
  {
   "cell_type": "code",
   "source": [
    "Data_cleaning_1.isna().sum()"
   ],
   "metadata": {
    "execution": {
     "iopub.status.busy": "2023-02-22T16:15:26.166957Z",
     "iopub.execute_input": "2023-02-22T16:15:26.167361Z",
     "iopub.status.idle": "2023-02-22T16:15:26.178890Z",
     "shell.execute_reply.started": "2023-02-22T16:15:26.167330Z",
     "shell.execute_reply": "2023-02-22T16:15:26.177480Z"
    },
    "trusted": true
   },
   "execution_count": 43,
   "outputs": [
    {
     "data": {
      "text/plain": "patient_id                   0\nbreast_density               0\nleft_or_right_breast         0\nimage_view                   0\nabnormality id               0\nabnormality_type             0\ncalc_type                   20\ncalc_distribution          376\nassessment                   0\npathology                    0\nsubtlety                     0\nimage file path              0\ncropped image file path      0\nROI mask file path           0\ndtype: int64"
     },
     "execution_count": 43,
     "metadata": {},
     "output_type": "execute_result"
    }
   ]
  },
  {
   "cell_type": "code",
   "source": [
    "Data_cleaning_1['calc_type'].fillna(method = 'bfill', axis = 0, inplace=True) "
   ],
   "metadata": {
    "execution": {
     "iopub.status.busy": "2023-02-22T16:15:29.686635Z",
     "iopub.execute_input": "2023-02-22T16:15:29.687328Z",
     "iopub.status.idle": "2023-02-22T16:15:29.693306Z",
     "shell.execute_reply.started": "2023-02-22T16:15:29.687291Z",
     "shell.execute_reply": "2023-02-22T16:15:29.692187Z"
    },
    "trusted": true
   },
   "execution_count": 44,
   "outputs": []
  },
  {
   "cell_type": "code",
   "source": [
    "Data_cleaning_1['calc_distribution'].fillna(method = 'bfill', axis = 0, inplace=True)"
   ],
   "metadata": {
    "execution": {
     "iopub.status.busy": "2023-02-22T16:15:29.996409Z",
     "iopub.execute_input": "2023-02-22T16:15:29.997188Z",
     "iopub.status.idle": "2023-02-22T16:15:30.003409Z",
     "shell.execute_reply.started": "2023-02-22T16:15:29.997118Z",
     "shell.execute_reply": "2023-02-22T16:15:30.001850Z"
    },
    "trusted": true
   },
   "execution_count": 45,
   "outputs": []
  },
  {
   "cell_type": "code",
   "source": [
    "Data_cleaning_1.isna().sum()"
   ],
   "metadata": {
    "execution": {
     "iopub.status.busy": "2023-02-22T16:15:31.914783Z",
     "iopub.execute_input": "2023-02-22T16:15:31.915170Z",
     "iopub.status.idle": "2023-02-22T16:15:31.927254Z",
     "shell.execute_reply.started": "2023-02-22T16:15:31.915140Z",
     "shell.execute_reply": "2023-02-22T16:15:31.926004Z"
    },
    "trusted": true
   },
   "execution_count": 46,
   "outputs": [
    {
     "data": {
      "text/plain": "patient_id                 0\nbreast_density             0\nleft_or_right_breast       0\nimage_view                 0\nabnormality id             0\nabnormality_type           0\ncalc_type                  0\ncalc_distribution          0\nassessment                 0\npathology                  0\nsubtlety                   0\nimage file path            0\ncropped image file path    0\nROI mask file path         0\ndtype: int64"
     },
     "execution_count": 46,
     "metadata": {},
     "output_type": "execute_result"
    }
   ]
  },
  {
   "cell_type": "code",
   "source": [
    "Data_cleaning_1.info()"
   ],
   "metadata": {
    "execution": {
     "iopub.status.busy": "2023-02-22T16:15:32.222372Z",
     "iopub.execute_input": "2023-02-22T16:15:32.222776Z",
     "iopub.status.idle": "2023-02-22T16:15:32.243481Z",
     "shell.execute_reply.started": "2023-02-22T16:15:32.222746Z",
     "shell.execute_reply": "2023-02-22T16:15:32.242222Z"
    },
    "trusted": true
   },
   "execution_count": 47,
   "outputs": [
    {
     "name": "stdout",
     "output_type": "stream",
     "text": [
      "<class 'pandas.core.frame.DataFrame'>\n",
      "RangeIndex: 1546 entries, 0 to 1545\n",
      "Data columns (total 14 columns):\n",
      " #   Column                   Non-Null Count  Dtype   \n",
      "---  ------                   --------------  -----   \n",
      " 0   patient_id               1546 non-null   object  \n",
      " 1   breast_density           1546 non-null   int64   \n",
      " 2   left_or_right_breast     1546 non-null   category\n",
      " 3   image_view               1546 non-null   category\n",
      " 4   abnormality id           1546 non-null   int64   \n",
      " 5   abnormality_type         1546 non-null   category\n",
      " 6   calc_type                1546 non-null   category\n",
      " 7   calc_distribution        1546 non-null   category\n",
      " 8   assessment               1546 non-null   int64   \n",
      " 9   pathology                1546 non-null   category\n",
      " 10  subtlety                 1546 non-null   int64   \n",
      " 11  image file path          1546 non-null   object  \n",
      " 12  cropped image file path  1546 non-null   object  \n",
      " 13  ROI mask file path       1546 non-null   object  \n",
      "dtypes: category(6), int64(4), object(4)\n",
      "memory usage: 108.1+ KB\n"
     ]
    }
   ]
  },
  {
   "cell_type": "code",
   "source": [
    "Data_cleaning_2 = data_2.copy()"
   ],
   "metadata": {
    "execution": {
     "iopub.status.busy": "2023-02-22T16:15:35.863709Z",
     "iopub.execute_input": "2023-02-22T16:15:35.864447Z",
     "iopub.status.idle": "2023-02-22T16:15:35.868707Z",
     "shell.execute_reply.started": "2023-02-22T16:15:35.864410Z",
     "shell.execute_reply": "2023-02-22T16:15:35.867971Z"
    },
    "trusted": true
   },
   "execution_count": 48,
   "outputs": []
  },
  {
   "cell_type": "code",
   "source": [
    "Data_cleaning_2 = Data_cleaning_2.rename(columns={'mass shape':'mass_shape'})"
   ],
   "metadata": {
    "execution": {
     "iopub.status.busy": "2023-02-22T16:15:37.213659Z",
     "iopub.execute_input": "2023-02-22T16:15:37.214431Z",
     "iopub.status.idle": "2023-02-22T16:15:37.220641Z",
     "shell.execute_reply.started": "2023-02-22T16:15:37.214384Z",
     "shell.execute_reply": "2023-02-22T16:15:37.219692Z"
    },
    "trusted": true
   },
   "execution_count": 49,
   "outputs": []
  },
  {
   "cell_type": "code",
   "source": [
    "Data_cleaning_2 = Data_cleaning_2.rename(columns={'left or right breast':'left_or_right_breast'})"
   ],
   "metadata": {
    "execution": {
     "iopub.status.busy": "2023-02-22T16:15:39.106732Z",
     "iopub.execute_input": "2023-02-22T16:15:39.107474Z",
     "iopub.status.idle": "2023-02-22T16:15:39.113987Z",
     "shell.execute_reply.started": "2023-02-22T16:15:39.107427Z",
     "shell.execute_reply": "2023-02-22T16:15:39.112953Z"
    },
    "trusted": true
   },
   "execution_count": 50,
   "outputs": []
  },
  {
   "cell_type": "code",
   "source": [
    "Data_cleaning_2 = Data_cleaning_2.rename(columns={'mass margins':'mass_margins'})"
   ],
   "metadata": {
    "execution": {
     "iopub.status.busy": "2023-02-22T16:15:39.634484Z",
     "iopub.execute_input": "2023-02-22T16:15:39.634912Z",
     "iopub.status.idle": "2023-02-22T16:15:39.640740Z",
     "shell.execute_reply.started": "2023-02-22T16:15:39.634875Z",
     "shell.execute_reply": "2023-02-22T16:15:39.639595Z"
    },
    "trusted": true
   },
   "execution_count": 51,
   "outputs": []
  },
  {
   "cell_type": "code",
   "source": [
    "Data_cleaning_2 = Data_cleaning_2.rename(columns={'image view':'image_view'})"
   ],
   "metadata": {
    "execution": {
     "iopub.status.busy": "2023-02-22T16:15:40.697488Z",
     "iopub.execute_input": "2023-02-22T16:15:40.697936Z",
     "iopub.status.idle": "2023-02-22T16:15:40.705165Z",
     "shell.execute_reply.started": "2023-02-22T16:15:40.697899Z",
     "shell.execute_reply": "2023-02-22T16:15:40.703705Z"
    },
    "trusted": true
   },
   "execution_count": 52,
   "outputs": []
  },
  {
   "cell_type": "code",
   "source": [
    "Data_cleaning_2 = Data_cleaning_2.rename(columns={'abnormality type':'abnormality_type'})"
   ],
   "metadata": {
    "execution": {
     "iopub.status.busy": "2023-02-22T16:15:41.758687Z",
     "iopub.execute_input": "2023-02-22T16:15:41.759805Z",
     "iopub.status.idle": "2023-02-22T16:15:41.766580Z",
     "shell.execute_reply.started": "2023-02-22T16:15:41.759747Z",
     "shell.execute_reply": "2023-02-22T16:15:41.765644Z"
    },
    "trusted": true
   },
   "execution_count": 53,
   "outputs": []
  },
  {
   "cell_type": "code",
   "source": [
    "Data_cleaning_2['left_or_right_breast'] = Data_cleaning_2['left_or_right_breast'].astype('category')"
   ],
   "metadata": {
    "execution": {
     "iopub.status.busy": "2023-02-22T16:15:43.914957Z",
     "iopub.execute_input": "2023-02-22T16:15:43.915389Z",
     "iopub.status.idle": "2023-02-22T16:15:43.923048Z",
     "shell.execute_reply.started": "2023-02-22T16:15:43.915355Z",
     "shell.execute_reply": "2023-02-22T16:15:43.921878Z"
    },
    "trusted": true
   },
   "execution_count": 54,
   "outputs": []
  },
  {
   "cell_type": "code",
   "source": [
    "Data_cleaning_2['image_view'] = Data_cleaning_2['image_view'].astype('category')"
   ],
   "metadata": {
    "execution": {
     "iopub.status.busy": "2023-02-22T16:15:44.511509Z",
     "iopub.execute_input": "2023-02-22T16:15:44.511921Z",
     "iopub.status.idle": "2023-02-22T16:15:44.518926Z",
     "shell.execute_reply.started": "2023-02-22T16:15:44.511889Z",
     "shell.execute_reply": "2023-02-22T16:15:44.517661Z"
    },
    "trusted": true
   },
   "execution_count": 55,
   "outputs": []
  },
  {
   "cell_type": "code",
   "source": [
    "Data_cleaning_2['mass_margins'] = Data_cleaning_2['mass_margins'].astype('category')"
   ],
   "metadata": {
    "execution": {
     "iopub.status.busy": "2023-02-22T16:15:45.144459Z",
     "iopub.execute_input": "2023-02-22T16:15:45.145706Z",
     "iopub.status.idle": "2023-02-22T16:15:45.152022Z",
     "shell.execute_reply.started": "2023-02-22T16:15:45.145645Z",
     "shell.execute_reply": "2023-02-22T16:15:45.150993Z"
    },
    "trusted": true
   },
   "execution_count": 56,
   "outputs": []
  },
  {
   "cell_type": "code",
   "source": [
    "Data_cleaning_2['mass_shape'] = Data_cleaning_2['mass_shape'].astype('category')"
   ],
   "metadata": {
    "execution": {
     "iopub.status.busy": "2023-02-22T16:15:47.249762Z",
     "iopub.execute_input": "2023-02-22T16:15:47.250832Z",
     "iopub.status.idle": "2023-02-22T16:15:47.256971Z",
     "shell.execute_reply.started": "2023-02-22T16:15:47.250792Z",
     "shell.execute_reply": "2023-02-22T16:15:47.255858Z"
    },
    "trusted": true
   },
   "execution_count": 57,
   "outputs": []
  },
  {
   "cell_type": "code",
   "source": [
    "Data_cleaning_2['abnormality_type'] = Data_cleaning_2['abnormality_type'].astype('category')"
   ],
   "metadata": {
    "execution": {
     "iopub.status.busy": "2023-02-22T16:15:47.555734Z",
     "iopub.execute_input": "2023-02-22T16:15:47.556851Z",
     "iopub.status.idle": "2023-02-22T16:15:47.562678Z",
     "shell.execute_reply.started": "2023-02-22T16:15:47.556807Z",
     "shell.execute_reply": "2023-02-22T16:15:47.561879Z"
    },
    "trusted": true
   },
   "execution_count": 58,
   "outputs": []
  },
  {
   "cell_type": "code",
   "source": [
    "Data_cleaning_2['pathology'] = Data_cleaning_2['pathology'].astype('category')"
   ],
   "metadata": {
    "execution": {
     "iopub.status.busy": "2023-02-22T16:15:47.980457Z",
     "iopub.execute_input": "2023-02-22T16:15:47.980903Z",
     "iopub.status.idle": "2023-02-22T16:15:47.988088Z",
     "shell.execute_reply.started": "2023-02-22T16:15:47.980869Z",
     "shell.execute_reply": "2023-02-22T16:15:47.986815Z"
    },
    "trusted": true
   },
   "execution_count": 59,
   "outputs": []
  },
  {
   "cell_type": "code",
   "source": [
    "Data_cleaning_2.isna().sum()"
   ],
   "metadata": {
    "execution": {
     "iopub.status.busy": "2023-02-22T16:15:49.054279Z",
     "iopub.execute_input": "2023-02-22T16:15:49.054757Z",
     "iopub.status.idle": "2023-02-22T16:15:49.067316Z",
     "shell.execute_reply.started": "2023-02-22T16:15:49.054717Z",
     "shell.execute_reply": "2023-02-22T16:15:49.066027Z"
    },
    "trusted": true
   },
   "execution_count": 60,
   "outputs": [
    {
     "data": {
      "text/plain": "patient_id                  0\nbreast_density              0\nleft_or_right_breast        0\nimage_view                  0\nabnormality id              0\nabnormality_type            0\nmass_shape                  4\nmass_margins               43\nassessment                  0\npathology                   0\nsubtlety                    0\nimage file path             0\ncropped image file path     0\nROI mask file path          0\ndtype: int64"
     },
     "execution_count": 60,
     "metadata": {},
     "output_type": "execute_result"
    }
   ]
  },
  {
   "cell_type": "code",
   "source": [
    "Data_cleaning_2['mass_shape'].fillna(method = 'bfill', axis = 0, inplace=True) "
   ],
   "metadata": {
    "execution": {
     "iopub.status.busy": "2023-02-22T16:15:52.459724Z",
     "iopub.execute_input": "2023-02-22T16:15:52.460643Z",
     "iopub.status.idle": "2023-02-22T16:15:52.467323Z",
     "shell.execute_reply.started": "2023-02-22T16:15:52.460587Z",
     "shell.execute_reply": "2023-02-22T16:15:52.466203Z"
    },
    "trusted": true
   },
   "execution_count": 61,
   "outputs": []
  },
  {
   "cell_type": "code",
   "source": [
    "Data_cleaning_2['mass_margins'].fillna(method = 'bfill', axis = 0, inplace=True)"
   ],
   "metadata": {
    "execution": {
     "iopub.status.busy": "2023-02-22T16:15:52.733064Z",
     "iopub.execute_input": "2023-02-22T16:15:52.733467Z",
     "iopub.status.idle": "2023-02-22T16:15:52.740001Z",
     "shell.execute_reply.started": "2023-02-22T16:15:52.733435Z",
     "shell.execute_reply": "2023-02-22T16:15:52.739068Z"
    },
    "trusted": true
   },
   "execution_count": 62,
   "outputs": []
  },
  {
   "cell_type": "code",
   "source": [
    "Data_cleaning_2.isna().sum()"
   ],
   "metadata": {
    "execution": {
     "iopub.status.busy": "2023-02-22T16:15:52.995851Z",
     "iopub.execute_input": "2023-02-22T16:15:52.996662Z",
     "iopub.status.idle": "2023-02-22T16:15:53.007596Z",
     "shell.execute_reply.started": "2023-02-22T16:15:52.996594Z",
     "shell.execute_reply": "2023-02-22T16:15:53.006561Z"
    },
    "trusted": true
   },
   "execution_count": 63,
   "outputs": [
    {
     "data": {
      "text/plain": "patient_id                 0\nbreast_density             0\nleft_or_right_breast       0\nimage_view                 0\nabnormality id             0\nabnormality_type           0\nmass_shape                 0\nmass_margins               0\nassessment                 0\npathology                  0\nsubtlety                   0\nimage file path            0\ncropped image file path    0\nROI mask file path         0\ndtype: int64"
     },
     "execution_count": 63,
     "metadata": {},
     "output_type": "execute_result"
    }
   ]
  },
  {
   "cell_type": "code",
   "execution_count": 64,
   "outputs": [
    {
     "name": "stdout",
     "output_type": "stream",
     "text": [
      "<class 'pandas.core.frame.DataFrame'>\n",
      "RangeIndex: 1318 entries, 0 to 1317\n",
      "Data columns (total 14 columns):\n",
      " #   Column                   Non-Null Count  Dtype   \n",
      "---  ------                   --------------  -----   \n",
      " 0   patient_id               1318 non-null   object  \n",
      " 1   breast_density           1318 non-null   int64   \n",
      " 2   left_or_right_breast     1318 non-null   category\n",
      " 3   image_view               1318 non-null   category\n",
      " 4   abnormality id           1318 non-null   int64   \n",
      " 5   abnormality_type         1318 non-null   category\n",
      " 6   mass_shape               1318 non-null   category\n",
      " 7   mass_margins             1318 non-null   category\n",
      " 8   assessment               1318 non-null   int64   \n",
      " 9   pathology                1318 non-null   category\n",
      " 10  subtlety                 1318 non-null   int64   \n",
      " 11  image file path          1318 non-null   object  \n",
      " 12  cropped image file path  1318 non-null   object  \n",
      " 13  ROI mask file path       1318 non-null   object  \n",
      "dtypes: category(6), int64(4), object(4)\n",
      "memory usage: 92.1+ KB\n"
     ]
    }
   ],
   "source": [
    "Data_cleaning_2.info()"
   ],
   "metadata": {
    "collapsed": false
   }
  }
 ]
}
